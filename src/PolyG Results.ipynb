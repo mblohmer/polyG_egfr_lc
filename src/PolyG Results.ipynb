{
 "cells": [
  {
   "cell_type": "markdown",
   "id": "civilian-requirement",
   "metadata": {},
   "source": [
    "# PolyG Results"
   ]
  },
  {
   "cell_type": "markdown",
   "id": "bec5492c",
   "metadata": {},
   "source": [
    "The scripts \"cor_interpatient.R\", \"cor_batch1.R\", and \"cor_batch2.R\" need to be run before this step."
   ]
  },
  {
   "attachments": {},
   "cell_type": "markdown",
   "id": "certified-vision",
   "metadata": {},
   "source": [
    "## Loading data and pre-processing"
   ]
  },
  {
   "cell_type": "code",
   "execution_count": 39,
   "id": "democratic-harassment",
   "metadata": {
    "scrolled": true,
    "vscode": {
     "languageId": "r"
    }
   },
   "outputs": [],
   "source": [
    "# loading dependencies\n",
    "library(tidyverse)\n",
    "library(readxl)\n",
    "library(ggpubr)\n",
    "library(ggbeeswarm)\n",
    "library(rstatix)\n",
    "library(ggrepel)"
   ]
  },
  {
   "cell_type": "markdown",
   "id": "danish-academy",
   "metadata": {},
   "source": [
    "### Correlation measurement"
   ]
  },
  {
   "cell_type": "code",
   "execution_count": 21,
   "id": "voluntary-tissue",
   "metadata": {
    "scrolled": false,
    "vscode": {
     "languageId": "r"
    }
   },
   "outputs": [
    {
     "name": "stderr",
     "output_type": "stream",
     "text": [
      "\u001b[1mRows: \u001b[22m\u001b[34m8\u001b[39m \u001b[1mColumns: \u001b[22m\u001b[34m6\u001b[39m\n",
      "\u001b[36m--\u001b[39m \u001b[1mColumn specification\u001b[22m \u001b[36m--------------------------------------------------------\u001b[39m\n",
      "\u001b[1mDelimiter:\u001b[22m \"\\t\"\n",
      "\u001b[31mchr\u001b[39m (3): patient, a, b\n",
      "\u001b[32mdbl\u001b[39m (3): cor, quantile_0.025, quantile_0.975\n",
      "\n",
      "\u001b[36mi\u001b[39m Use `spec()` to retrieve the full column specification for this data.\n",
      "\u001b[36mi\u001b[39m Specify the column types or set `show_col_types = FALSE` to quiet this message.\n",
      "\u001b[1mRows: \u001b[22m\u001b[34m73\u001b[39m \u001b[1mColumns: \u001b[22m\u001b[34m6\u001b[39m\n",
      "\u001b[36m--\u001b[39m \u001b[1mColumn specification\u001b[22m \u001b[36m--------------------------------------------------------\u001b[39m\n",
      "\u001b[1mDelimiter:\u001b[22m \"\\t\"\n",
      "\u001b[31mchr\u001b[39m (3): patient, a, b\n",
      "\u001b[32mdbl\u001b[39m (3): cor, quantile_0.025, quantile_0.975\n"
     ]
    },
    {
     "name": "stderr",
     "output_type": "stream",
     "text": [
      "\n",
      "\u001b[36mi\u001b[39m Use `spec()` to retrieve the full column specification for this data.\n",
      "\u001b[36mi\u001b[39m Specify the column types or set `show_col_types = FALSE` to quiet this message.\n",
      "\u001b[1mRows: \u001b[22m\u001b[34m443\u001b[39m \u001b[1mColumns: \u001b[22m\u001b[34m4\u001b[39m\n",
      "\u001b[36m--\u001b[39m \u001b[1mColumn specification\u001b[22m \u001b[36m--------------------------------------------------------\u001b[39m\n",
      "\u001b[1mDelimiter:\u001b[22m \"\\t\"\n",
      "\u001b[31mchr\u001b[39m (2): a, b\n",
      "\u001b[32mdbl\u001b[39m (2): cor, markers\n",
      "\n",
      "\u001b[36mi\u001b[39m Use `spec()` to retrieve the full column specification for this data.\n",
      "\u001b[36mi\u001b[39m Specify the column types or set `show_col_types = FALSE` to quiet this message.\n"
     ]
    }
   ],
   "source": [
    "# loading cor data \n",
    "batch1_cor  <- read_tsv(\"../results/batch1_cor.tsv\")  %>% \n",
    "    mutate(cohort=\"Intrapatient MGH\")\n",
    "\n",
    "batch2_cor  <- read_tsv(\"../results/batch2_cor.tsv\")  %>% \n",
    "    mutate(cohort=\"Intrapatient MGH\") %>% \n",
    "    filter(patient!=\"CC001\")\n",
    "\n",
    "interpatient_cor <- read_tsv(\"../results/interpatient_cor.tsv\")  %>% \n",
    "    mutate(cohort=\"Interpatient MGH\")\n"
   ]
  },
  {
   "cell_type": "code",
   "execution_count": 22,
   "id": "d0eea8f5",
   "metadata": {
    "vscode": {
     "languageId": "r"
    }
   },
   "outputs": [],
   "source": [
    "# combing both tables\n",
    "cor_combined <- bind_rows(batch1_cor, batch2_cor, interpatient_cor)"
   ]
  },
  {
   "cell_type": "markdown",
   "id": "bored-medicaid",
   "metadata": {},
   "source": [
    "### Annotating sequencing based classification"
   ]
  },
  {
   "cell_type": "code",
   "execution_count": 23,
   "id": "14fc4890",
   "metadata": {
    "vscode": {
     "languageId": "r"
    }
   },
   "outputs": [],
   "source": [
    "cor_annotated <- cor_combined %>%\n",
    "        mutate(\"NGS \\nClassification\" = case_when(\n",
    "                cohort == \"Interpatient MGH\" ~ \"Interpatient MGH\",\n",
    "                patient == \"CC001\" ~ \"NA\",\n",
    "                patient == \"CC002\" ~ \"mosaic\",\n",
    "                patient == \"CC003\" ~ \"independent\",\n",
    "                patient == \"CC005\" ~ \"independent\",\n",
    "                patient == \"WGS00B\" ~ \"mosaic\",\n",
    "                patient == \"WGS00C\" ~ \"mosaic\",\n",
    "                patient == \"WGS00D\" ~ \"metastatic\",\n",
    "                patient == \"WGS00E\" ~ \"mosaic\",\n",
    "                patient == \"T790M\" & str_detect(a, \"70[7-9]$|713$\") ~ \"independent\",\n",
    "                patient == \"T790M\" & str_detect(b, \"70[7-9]$|713$\") ~ \"independent\",\n",
    "                TRUE ~ \"metastatic\"\n",
    "        ))"
   ]
  },
  {
   "cell_type": "markdown",
   "id": "sudden-senegal",
   "metadata": {},
   "source": [
    "#### Plotting with Interpatient Cor values"
   ]
  },
  {
   "cell_type": "markdown",
   "id": "08241473",
   "metadata": {},
   "source": [
    "Patient numbers:"
   ]
  },
  {
   "cell_type": "code",
   "execution_count": 24,
   "id": "afraid-malaysia",
   "metadata": {
    "scrolled": true,
    "vscode": {
     "languageId": "r"
    }
   },
   "outputs": [
    {
     "data": {
      "text/html": [
       "<table class=\"dataframe\">\n",
       "<caption>A tibble: 3 x 2</caption>\n",
       "<thead>\n",
       "\t<tr><th scope=col>NGS \n",
       "Classification</th><th scope=col>n</th></tr>\n",
       "\t<tr><th scope=col>&lt;fct&gt;</th><th scope=col>&lt;int&gt;</th></tr>\n",
       "</thead>\n",
       "<tbody>\n",
       "\t<tr><td>Unrelated </td><td>443</td></tr>\n",
       "\t<tr><td>Mosaic    </td><td>  7</td></tr>\n",
       "\t<tr><td>Metastatic</td><td> 29</td></tr>\n",
       "</tbody>\n",
       "</table>\n"
      ],
      "text/latex": [
       "A tibble: 3 x 2\n",
       "\\begin{tabular}{ll}\n",
       " NGS \n",
       "Classification & n\\\\\n",
       " <fct> & <int>\\\\\n",
       "\\hline\n",
       "\t Unrelated  & 443\\\\\n",
       "\t Mosaic     &   7\\\\\n",
       "\t Metastatic &  29\\\\\n",
       "\\end{tabular}\n"
      ],
      "text/markdown": [
       "\n",
       "A tibble: 3 x 2\n",
       "\n",
       "| NGS \n",
       "Classification &lt;fct&gt; | n &lt;int&gt; |\n",
       "|---|---|\n",
       "| Unrelated  | 443 |\n",
       "| Mosaic     |   7 |\n",
       "| Metastatic |  29 |\n",
       "\n"
      ],
      "text/plain": [
       "  NGS \\nClassification n  \n",
       "1 Unrelated            443\n",
       "2 Mosaic                 7\n",
       "3 Metastatic            29"
      ]
     },
     "metadata": {},
     "output_type": "display_data"
    }
   ],
   "source": [
    " cor_annotated  %>% \n",
    "    filter(str_detect(cohort, \"MGH\"), `NGS \\nClassification`!=\"independent\", patient!=\"CC001\"|is.na(patient))  %>% \n",
    "    mutate(`NGS \\nClassification`=case_when(`NGS \\nClassification`==\"Interpatient MGH\"~ \"Unrelated\", \n",
    "                                            `NGS \\nClassification`==\"mosaic\" ~ \"Mosaic\",\n",
    "                                            `NGS \\nClassification`==\"metastatic\" ~ \"Metastatic\",\n",
    "                                         TRUE ~ `NGS \\nClassification`))  %>% \n",
    "    mutate(\n",
    "        `NGS \\nClassification` = as.factor(`NGS \\nClassification`),\n",
    "        `NGS \\nClassification` =\n",
    "            fct_relevel(`NGS \\nClassification`, list(\"Unrelated\", \"Mosaic\", \"Metastatic\"))\n",
    "    ) %>%\n",
    "        ungroup() %>% \n",
    "        count(`NGS \\nClassification`)"
   ]
  },
  {
   "attachments": {},
   "cell_type": "markdown",
   "id": "8f540460",
   "metadata": {},
   "source": [
    "Getting p-values for plot by first performing Kruskal-Wallis test and then Dunn's test if K.W. test is significant.  "
   ]
  },
  {
   "cell_type": "code",
   "execution_count": 25,
   "id": "e80c10a3",
   "metadata": {
    "vscode": {
     "languageId": "r"
    }
   },
   "outputs": [],
   "source": [
    "sig_kw <- cor_annotated  %>% \n",
    "    filter(str_detect(cohort, \"MGH\"), `NGS \\nClassification`!=\"independent\", patient!=\"CC001\"|is.na(patient))  %>% \n",
    "    mutate(`NGS \\nClassification`=case_when(`NGS \\nClassification`==\"Interpatient MGH\"~ \"Unrelated\", \n",
    "                                            `NGS \\nClassification`==\"mosaic\" ~ \"Mosaic\",\n",
    "                                            `NGS \\nClassification`==\"metastatic\" ~ \"Metastatic\",\n",
    "                                         TRUE ~ `NGS \\nClassification`))  %>% \n",
    "    mutate(\n",
    "        `NGS \\nClassification` = as.factor(`NGS \\nClassification`),\n",
    "        `NGS \\nClassification` =\n",
    "            fct_relevel(`NGS \\nClassification`, list(\"Unrelated\", \"Mosaic\", \"Metastatic\"))\n",
    "    ) %>%\n",
    "    rename(ngs = `NGS \\nClassification`) %>%\n",
    "    kruskal_test(cor ~ ngs) %>%\n",
    "    pull(p) < 0.05\n",
    "\n",
    "if (sig_kw) {\n",
    "dunn <- cor_annotated  %>% \n",
    "    filter(str_detect(cohort, \"MGH\"), `NGS \\nClassification`!=\"independent\", patient!=\"CC001\"|is.na(patient))  %>% \n",
    "    mutate(`NGS \\nClassification`=case_when(`NGS \\nClassification`==\"Interpatient MGH\"~ \"Unrelated\", \n",
    "                                            `NGS \\nClassification`==\"mosaic\" ~ \"Mosaic\",\n",
    "                                            `NGS \\nClassification`==\"metastatic\" ~ \"Metastatic\",\n",
    "                                         TRUE ~ `NGS \\nClassification`))  %>% \n",
    "    mutate(\n",
    "        `NGS \\nClassification` = as.factor(`NGS \\nClassification`),\n",
    "        `NGS \\nClassification` =\n",
    "            fct_relevel(`NGS \\nClassification`, list(\"Unrelated\", \"Mosaic\", \"Metastatic\"))\n",
    "    ) %>%\n",
    "    rename(ngs = `NGS \\nClassification`) %>%\n",
    "    dunn_test(cor ~ ngs) %>%\n",
    "    add_xy_position()\n",
    "}"
   ]
  },
  {
   "cell_type": "code",
   "execution_count": 26,
   "id": "f65693d5",
   "metadata": {
    "vscode": {
     "languageId": "r"
    }
   },
   "outputs": [
    {
     "data": {
      "text/html": [
       "<table class=\"dataframe\">\n",
       "<caption>A rstatix_test: 1 x 6</caption>\n",
       "<thead>\n",
       "\t<tr><th></th><th scope=col>.y.</th><th scope=col>n</th><th scope=col>statistic</th><th scope=col>df</th><th scope=col>p</th><th scope=col>method</th></tr>\n",
       "\t<tr><th></th><th scope=col>&lt;chr&gt;</th><th scope=col>&lt;int&gt;</th><th scope=col>&lt;dbl&gt;</th><th scope=col>&lt;int&gt;</th><th scope=col>&lt;dbl&gt;</th><th scope=col>&lt;chr&gt;</th></tr>\n",
       "</thead>\n",
       "<tbody>\n",
       "\t<tr><th scope=row>1</th><td>cor</td><td>479</td><td>83.26257</td><td>2</td><td>8.31e-19</td><td>Kruskal-Wallis</td></tr>\n",
       "</tbody>\n",
       "</table>\n"
      ],
      "text/latex": [
       "A rstatix\\_test: 1 x 6\n",
       "\\begin{tabular}{r|llllll}\n",
       "  & .y. & n & statistic & df & p & method\\\\\n",
       "  & <chr> & <int> & <dbl> & <int> & <dbl> & <chr>\\\\\n",
       "\\hline\n",
       "\t1 & cor & 479 & 83.26257 & 2 & 8.31e-19 & Kruskal-Wallis\\\\\n",
       "\\end{tabular}\n"
      ],
      "text/markdown": [
       "\n",
       "A rstatix_test: 1 x 6\n",
       "\n",
       "| <!--/--> | .y. &lt;chr&gt; | n &lt;int&gt; | statistic &lt;dbl&gt; | df &lt;int&gt; | p &lt;dbl&gt; | method &lt;chr&gt; |\n",
       "|---|---|---|---|---|---|---|\n",
       "| 1 | cor | 479 | 83.26257 | 2 | 8.31e-19 | Kruskal-Wallis |\n",
       "\n"
      ],
      "text/plain": [
       "  .y. n   statistic df p        method        \n",
       "1 cor 479 83.26257  2  8.31e-19 Kruskal-Wallis"
      ]
     },
     "metadata": {},
     "output_type": "display_data"
    }
   ],
   "source": [
    "## Kruskal-Wallis Test:\n",
    "cor_annotated  %>% \n",
    "    filter(str_detect(cohort, \"MGH\"), `NGS \\nClassification`!=\"independent\", patient!=\"CC001\"|is.na(patient))  %>% \n",
    "    mutate(`NGS \\nClassification`=case_when(`NGS \\nClassification`==\"Interpatient MGH\"~ \"Unrelated\", \n",
    "                                            `NGS \\nClassification`==\"mosaic\" ~ \"Mosaic\",\n",
    "                                            `NGS \\nClassification`==\"metastatic\" ~ \"Metastatic\",\n",
    "                                         TRUE ~ `NGS \\nClassification`))  %>% \n",
    "    mutate(\n",
    "        `NGS \\nClassification` = as.factor(`NGS \\nClassification`),\n",
    "        `NGS \\nClassification` =\n",
    "            fct_relevel(`NGS \\nClassification`, list(\"Unrelated\", \"Mosaic\", \"Metastatic\"))\n",
    "    ) %>%\n",
    "    rename(ngs = `NGS \\nClassification`) %>%\n",
    "    kruskal_test(cor ~ ngs)"
   ]
  },
  {
   "cell_type": "code",
   "execution_count": 27,
   "id": "8a05bb06",
   "metadata": {
    "vscode": {
     "languageId": "r"
    }
   },
   "outputs": [
    {
     "data": {
      "text/html": [
       "<table class=\"dataframe\">\n",
       "<caption>A rstatix_test: 3 x 13</caption>\n",
       "<thead>\n",
       "\t<tr><th scope=col>.y.</th><th scope=col>group1</th><th scope=col>group2</th><th scope=col>n1</th><th scope=col>n2</th><th scope=col>statistic</th><th scope=col>p</th><th scope=col>p.adj</th><th scope=col>p.adj.signif</th><th scope=col>y.position</th><th scope=col>groups</th><th scope=col>xmin</th><th scope=col>xmax</th></tr>\n",
       "\t<tr><th scope=col>&lt;chr&gt;</th><th scope=col>&lt;chr&gt;</th><th scope=col>&lt;chr&gt;</th><th scope=col>&lt;int&gt;</th><th scope=col>&lt;int&gt;</th><th scope=col>&lt;dbl&gt;</th><th scope=col>&lt;dbl&gt;</th><th scope=col>&lt;dbl&gt;</th><th scope=col>&lt;chr&gt;</th><th scope=col>&lt;dbl&gt;</th><th scope=col>&lt;named list&gt;</th><th scope=col>&lt;dbl&gt;</th><th scope=col>&lt;dbl&gt;</th></tr>\n",
       "</thead>\n",
       "<tbody>\n",
       "\t<tr><td>cor</td><td>Unrelated</td><td>Mosaic    </td><td>443</td><td> 7</td><td>2.857719</td><td>4.266982e-03</td><td>8.533963e-03</td><td>**  </td><td>0.95204</td><td>Unrelated, Mosaic   </td><td>1</td><td>2</td></tr>\n",
       "\t<tr><td>cor</td><td>Unrelated</td><td>Metastatic</td><td>443</td><td>29</td><td>8.750000</td><td>2.133520e-18</td><td>6.400561e-18</td><td>****</td><td>0.98210</td><td>Unrelated , Metastatic</td><td>1</td><td>3</td></tr>\n",
       "\t<tr><td>cor</td><td>Mosaic   </td><td>Metastatic</td><td>  7</td><td>29</td><td>1.397610</td><td>1.622302e-01</td><td>1.622302e-01</td><td>ns  </td><td>1.01216</td><td>Mosaic    , Metastatic</td><td>2</td><td>3</td></tr>\n",
       "</tbody>\n",
       "</table>\n"
      ],
      "text/latex": [
       "A rstatix\\_test: 3 x 13\n",
       "\\begin{tabular}{lllllllllllll}\n",
       " .y. & group1 & group2 & n1 & n2 & statistic & p & p.adj & p.adj.signif & y.position & groups & xmin & xmax\\\\\n",
       " <chr> & <chr> & <chr> & <int> & <int> & <dbl> & <dbl> & <dbl> & <chr> & <dbl> & <named list> & <dbl> & <dbl>\\\\\n",
       "\\hline\n",
       "\t cor & Unrelated & Mosaic     & 443 &  7 & 2.857719 & 4.266982e-03 & 8.533963e-03 & **   & 0.95204 & Unrelated, Mosaic    & 1 & 2\\\\\n",
       "\t cor & Unrelated & Metastatic & 443 & 29 & 8.750000 & 2.133520e-18 & 6.400561e-18 & **** & 0.98210 & Unrelated , Metastatic & 1 & 3\\\\\n",
       "\t cor & Mosaic    & Metastatic &   7 & 29 & 1.397610 & 1.622302e-01 & 1.622302e-01 & ns   & 1.01216 & Mosaic    , Metastatic & 2 & 3\\\\\n",
       "\\end{tabular}\n"
      ],
      "text/markdown": [
       "\n",
       "A rstatix_test: 3 x 13\n",
       "\n",
       "| .y. &lt;chr&gt; | group1 &lt;chr&gt; | group2 &lt;chr&gt; | n1 &lt;int&gt; | n2 &lt;int&gt; | statistic &lt;dbl&gt; | p &lt;dbl&gt; | p.adj &lt;dbl&gt; | p.adj.signif &lt;chr&gt; | y.position &lt;dbl&gt; | groups &lt;named list&gt; | xmin &lt;dbl&gt; | xmax &lt;dbl&gt; |\n",
       "|---|---|---|---|---|---|---|---|---|---|---|---|---|\n",
       "| cor | Unrelated | Mosaic     | 443 |  7 | 2.857719 | 4.266982e-03 | 8.533963e-03 | **   | 0.95204 | Unrelated, Mosaic    | 1 | 2 |\n",
       "| cor | Unrelated | Metastatic | 443 | 29 | 8.750000 | 2.133520e-18 | 6.400561e-18 | **** | 0.98210 | Unrelated , Metastatic | 1 | 3 |\n",
       "| cor | Mosaic    | Metastatic |   7 | 29 | 1.397610 | 1.622302e-01 | 1.622302e-01 | ns   | 1.01216 | Mosaic    , Metastatic | 2 | 3 |\n",
       "\n"
      ],
      "text/plain": [
       "  .y. group1    group2     n1  n2 statistic p            p.adj       \n",
       "1 cor Unrelated Mosaic     443  7 2.857719  4.266982e-03 8.533963e-03\n",
       "2 cor Unrelated Metastatic 443 29 8.750000  2.133520e-18 6.400561e-18\n",
       "3 cor Mosaic    Metastatic   7 29 1.397610  1.622302e-01 1.622302e-01\n",
       "  p.adj.signif y.position groups                 xmin xmax\n",
       "1 **           0.95204    Unrelated, Mosaic      1    2   \n",
       "2 ****         0.98210    Unrelated , Metastatic 1    3   \n",
       "3 ns           1.01216    Mosaic    , Metastatic 2    3   "
      ]
     },
     "metadata": {},
     "output_type": "display_data"
    }
   ],
   "source": [
    "## Dunn's Test\n",
    "dunn"
   ]
  },
  {
   "cell_type": "code",
   "execution_count": 9,
   "id": "460a4ca0",
   "metadata": {
    "vscode": {
     "languageId": "r"
    }
   },
   "outputs": [],
   "source": [
    "# finding 95th percentile of interpatient cor\n",
    "cutoff <- quantile(interpatient_cor$cor, 0.95)"
   ]
  },
  {
   "cell_type": "code",
   "execution_count": 36,
   "id": "peaceful-christmas",
   "metadata": {
    "vscode": {
     "languageId": "r"
    }
   },
   "outputs": [
    {
     "name": "stderr",
     "output_type": "stream",
     "text": [
      "\u001b[1m\u001b[22mSaving 7 x 7 in image\n"
     ]
    },
    {
     "data": {
      "image/png": "[encoded data removed]",
      "text/plain": [
       "plot without title"
      ]
     },
     "metadata": {
      "image/png": {
       "height": 420,
       "width": 420
      }
     },
     "output_type": "display_data"
    }
   ],
   "source": [
    "cor_annotated  %>% \n",
    "    filter(str_detect(cohort, \"MGH\"), `NGS \\nClassification`!=\"independent\", patient!=\"CC001\"|is.na(patient))  %>% \n",
    "    mutate(`NGS \\nClassification`=case_when(`NGS \\nClassification`==\"Interpatient MGH\"~ \"Unrelated\", \n",
    "                                            `NGS \\nClassification`==\"mosaic\" ~ \"Mosaic\",\n",
    "                                            `NGS \\nClassification`==\"metastatic\" ~ \"Metastatic\",\n",
    "                                         TRUE ~ `NGS \\nClassification`))  %>% \n",
    "    mutate(\n",
    "        `NGS \\nClassification` = as.factor(`NGS \\nClassification`),\n",
    "        `NGS \\nClassification` =\n",
    "            fct_relevel(`NGS \\nClassification`, list(\"Unrelated\", \"Mosaic\", \"Metastatic\"))\n",
    "    ) %>%\n",
    "    ggplot(aes(`NGS \\nClassification`, cor)) +\n",
    "    geom_blank() +\n",
    "    geom_boxplot(data=.  %>%  filter(cohort!=\"Interpatient MGH\"),\n",
    "                 outlier.alpha=0) +\n",
    "    geom_beeswarm(data=.  %>%  filter(cohort!=\"Interpatient MGH\"),\n",
    "                  aes(color=`NGS \\nClassification`\n",
    "                     ), cex=2.5, size=3.5) + \n",
    "    geom_boxplot(data=.  %>%  filter(cohort==\"Interpatient MGH\"),\n",
    "                  outlier.alpha=0) +\n",
    "    geom_beeswarm(\n",
    "        data = . %>% filter(cohort == \"Interpatient MGH\"),\n",
    "        color = \"grey38\", cex = 0.85\n",
    "    ) +\n",
    "    geom_text_repel(data=.%>% filter(patient==\"WGS00D\"), aes(label=patient), \n",
    "        point.padding = 0.7, \n",
    "        nudge_x = .33,\n",
    "        nudge_y = -0.033,\n",
    "        #segment.curvature = -1e-10,\n",
    "        #segment.ncp = 3,\n",
    "        #segment.angle = 90,\n",
    "        arrow = arrow(length = unit(0.015, \"npc\")),\n",
    "        segment.size = 1,\n",
    "        ) +\n",
    "    geom_hline(yintercept = cutoff, linetype=2, size=1) +\n",
    "    scale_color_manual(values = c(\"red\", \"#619CFF\"), guide = \"none\") +\n",
    "    stat_pvalue_manual(dunn, step.increase = 0.05) +\n",
    "    labs(x = \"Exome Classification\", y = \"Sample pair relatedness (*R*)\") +\n",
    "    scale_x_discrete(labels=c(\"Unrelated \\nn=443\", \"Mosaic \\nn=7\", \"Metastatic \\nn=29\")) +\n",
    "    theme_classic() +\n",
    "    theme(text = element_text(size = 20), axis.title.y = ggtext::element_markdown()) \n",
    "\n",
    "ggsave(\"../plots/Fig3b.pdf\")"
   ]
  },
  {
   "cell_type": "markdown",
   "id": "33fd2bbf",
   "metadata": {},
   "source": [
    "Saving data with final paper names"
   ]
  },
  {
   "cell_type": "code",
   "execution_count": 207,
   "id": "00302c8b",
   "metadata": {
    "vscode": {
     "languageId": "r"
    }
   },
   "outputs": [],
   "source": [
    "batch2_samples <- batch2_cor$patient %>%\n",
    "  unique() %>%\n",
    "  # adding WDS00D because it was included in the analysis but no cor was calculated because only one tumor samples \n",
    "  ## was analyzed\n",
    "    c(\"WGS00D\", \"CC001\")\n",
    "\n",
    "batch2_ids <- read_excel(\"../data/Tumor ID lookup table.xlsx\") %>% \n",
    "  rename(old_pat_id=1, old_samp_id=2, new_pat_id=3, new_samp_id=4) %>% \n",
    "  mutate(\n",
    "    old_pat_id = ifelse(str_detect(old_pat_id, \"T790M\"), str_remove(old_pat_id, \" III-[:digit:]\"), old_pat_id),\n",
    "    new_pat_id=str_replace(new_pat_id, \" \", \"_\"),\n",
    "    nax_id=paste0(old_pat_id,\"_\", old_samp_id), \n",
    "    new_id=paste0(new_pat_id,\"_\", new_samp_id)) %>% \n",
    "  filter(old_pat_id %in% batch2_samples) %>%\n",
    "  select(nax_id, new_id) "
   ]
  },
  {
   "cell_type": "code",
   "execution_count": 192,
   "id": "f3007941",
   "metadata": {
    "vscode": {
     "languageId": "r"
    }
   },
   "outputs": [],
   "source": [
    "# changing names to published names\n",
    "batch1_ids <- read_excel(\"../data/naxerova_newnames.xlsx\") %>%\n",
    "  select(5:7) %>%\n",
    "  rename(nax_id=1, pat_id=2, samp_id=3) %>% \n",
    "  mutate(\n",
    "    nax_id = case_when(\n",
    "      str_detect(nax_id, \"WGS004\") ~ str_replace(nax_id, \"WGS004\", \"WGS00D\"),\n",
    "      str_detect(nax_id, \"WGS002\") ~ str_replace(nax_id, \"WGS002\", \"WGS00B\"),\n",
    "      str_detect(nax_id, \"WGS005\") ~ str_replace(nax_id, \"WGS005\", \"WGS00E\"),\n",
    "      TRUE ~ nax_id\n",
    "    ),\n",
    "    pat_id=str_replace(pat_id, \" \", \"_\"), \n",
    "    new_id=paste0(pat_id,\"_\", samp_id)) %>% \n",
    "  select(nax_id, new_id)\n"
   ]
  },
  {
   "cell_type": "code",
   "execution_count": 193,
   "id": "368834b8",
   "metadata": {
    "vscode": {
     "languageId": "r"
    }
   },
   "outputs": [],
   "source": [
    "batch1_samples <- read_excel(\"../data/naxerova_newnames.xlsx\") %>%\n",
    "    select(5:7) %>%\n",
    "    rename(nax_id = 1, pat_id = 2, samp_id = 3) %>%\n",
    "    pull(nax_id)"
   ]
  },
  {
   "cell_type": "code",
   "execution_count": 210,
   "id": "2fd28d33",
   "metadata": {
    "vscode": {
     "languageId": "r"
    }
   },
   "outputs": [],
   "source": [
    "cor_annotated  %>% \n",
    "    filter(str_detect(cohort, \"MGH\"), `NGS \\nClassification`!=\"independent\", patient!=\"CC001\"|is.na(patient))  %>% \n",
    "    mutate(`NGS Classification`=case_when(`NGS \\nClassification`==\"Interpatient MGH\"~ \"Unrelated\", \n",
    "                                            `NGS \\nClassification`==\"mosaic\" ~ \"Mosaic\",\n",
    "                                            `NGS \\nClassification`==\"metastatic\" ~ \"Metastatic\",\n",
    "                                         TRUE ~ `NGS \\nClassification`))  %>% \n",
    "    select(-`NGS \\nClassification`) %>%\n",
    "        mutate(\n",
    "            a=ifelse(`NGS Classification`== \"Unrelated\", paste0(str_extract(a, \"(?<=_).*\"), \"_\", str_extract(a, \".*(?=_)\")), a),\n",
    "            b=ifelse(`NGS Classification`== \"Unrelated\", paste0(str_extract(b, \"(?<=_).*\"), \"_\", str_extract(b, \".*(?=_)\")), b),\n",
    "            a = ifelse(str_remove(a, \"_\") %in% batch1_samples, str_remove(a, \"_\"), a),\n",
    "            b = ifelse(str_remove(b, \"_\") %in% batch1_samples, str_remove(b, \"_\"), b),\n",
    "            a = case_when(\n",
    "                str_detect(a, \"WGS004\") ~ str_replace(a, \"WGS004\", \"WGS00D\"),\n",
    "                str_detect(a, \"WGS002\") ~ str_replace(a, \"WGS002\", \"WGS00B\"),\n",
    "                str_detect(a, \"WGS005\") ~ str_replace(a, \"WGS005\", \"WGS00E\"),\n",
    "                TRUE ~ a\n",
    "            ),\n",
    "            b = case_when(\n",
    "                str_detect(b, \"WGS004\") ~ str_replace(b, \"WGS004\", \"WGS00D\"),\n",
    "                str_detect(b, \"WGS002\") ~ str_replace(b, \"WGS002\", \"WGS00B\"),\n",
    "                str_detect(b, \"WGS005\") ~ str_replace(b, \"WGS005\", \"WGS00E\"),\n",
    "                TRUE ~ b)\n",
    "        ) %>%\n",
    "  left_join(batch1_ids, by = c(\"a\" = \"nax_id\")) %>%\n",
    "      mutate(a = ifelse(!is.na(new_id), new_id, a)) %>%\n",
    "      select(-new_id) %>%\n",
    "      left_join(batch1_ids, by = c(\"b\" = \"nax_id\")) %>%\n",
    "      mutate(b = ifelse(!is.na(new_id), new_id, b)) %>%\n",
    "      select(-new_id) %>%\n",
    "      left_join(batch2_ids, by = c(\"a\" = \"nax_id\")) %>%\n",
    "      mutate(a = ifelse(!is.na(new_id), new_id, a)) %>%\n",
    "      select(-new_id) %>%\n",
    "      left_join(batch2_ids, by = c(\"b\" = \"nax_id\")) %>%\n",
    "      mutate(b = ifelse(!is.na(new_id), new_id, b)) %>%\n",
    "      select(-new_id) %>%\n",
    "      mutate(patient=ifelse(`NGS Classification`!= \"Unrelated\", str_extract(a, \".*(?=_)\"), patient)) %>% \n",
    "      write_tsv(\"../results/source_data_fig3g.tsv\")"
   ]
  },
  {
   "cell_type": "markdown",
   "id": "b03bc300",
   "metadata": {},
   "source": [
    "Finding percentiles (5th percentile, median, 95th percentile):"
   ]
  },
  {
   "cell_type": "markdown",
   "id": "4f7f95aa",
   "metadata": {},
   "source": [
    "Metastatic:"
   ]
  },
  {
   "cell_type": "code",
   "execution_count": 12,
   "id": "18553bed",
   "metadata": {
    "vscode": {
     "languageId": "r"
    }
   },
   "outputs": [
    {
     "data": {
      "text/html": [
       "<table class=\"dataframe\">\n",
       "<caption>A tibble: 1 x 3</caption>\n",
       "<thead>\n",
       "\t<tr><th scope=col>q05</th><th scope=col>median</th><th scope=col>q95</th></tr>\n",
       "\t<tr><th scope=col>&lt;dbl&gt;</th><th scope=col>&lt;dbl&gt;</th><th scope=col>&lt;dbl&gt;</th></tr>\n",
       "</thead>\n",
       "<tbody>\n",
       "\t<tr><td>0.4412324</td><td>0.7989771</td><td>0.9193391</td></tr>\n",
       "</tbody>\n",
       "</table>\n"
      ],
      "text/latex": [
       "A tibble: 1 x 3\n",
       "\\begin{tabular}{lll}\n",
       " q05 & median & q95\\\\\n",
       " <dbl> & <dbl> & <dbl>\\\\\n",
       "\\hline\n",
       "\t 0.4412324 & 0.7989771 & 0.9193391\\\\\n",
       "\\end{tabular}\n"
      ],
      "text/markdown": [
       "\n",
       "A tibble: 1 x 3\n",
       "\n",
       "| q05 &lt;dbl&gt; | median &lt;dbl&gt; | q95 &lt;dbl&gt; |\n",
       "|---|---|---|\n",
       "| 0.4412324 | 0.7989771 | 0.9193391 |\n",
       "\n"
      ],
      "text/plain": [
       "  q05       median    q95      \n",
       "1 0.4412324 0.7989771 0.9193391"
      ]
     },
     "metadata": {},
     "output_type": "display_data"
    }
   ],
   "source": [
    "cor_annotated %>%\n",
    "    filter(`NGS \\nClassification` == \"metastatic\") %>%\n",
    "    ungroup() %>% \n",
    "    summarize(q05=quantile(cor, 0.05), , median=quantile(cor, 0.5), q95=quantile(cor, 0.95))"
   ]
  },
  {
   "cell_type": "markdown",
   "id": "df11d5ad",
   "metadata": {},
   "source": [
    "Independent:"
   ]
  },
  {
   "cell_type": "code",
   "execution_count": 13,
   "id": "5bf24667",
   "metadata": {
    "vscode": {
     "languageId": "r"
    }
   },
   "outputs": [
    {
     "data": {
      "text/html": [
       "<table class=\"dataframe\">\n",
       "<caption>A tibble: 1 x 4</caption>\n",
       "<thead>\n",
       "\t<tr><th scope=col>q05</th><th scope=col>median</th><th scope=col>q95</th><th scope=col>mean</th></tr>\n",
       "\t<tr><th scope=col>&lt;dbl&gt;</th><th scope=col>&lt;dbl&gt;</th><th scope=col>&lt;dbl&gt;</th><th scope=col>&lt;dbl&gt;</th></tr>\n",
       "</thead>\n",
       "<tbody>\n",
       "\t<tr><td>-0.41239</td><td>0.002706349</td><td>0.4665308</td><td>0.01778661</td></tr>\n",
       "</tbody>\n",
       "</table>\n"
      ],
      "text/latex": [
       "A tibble: 1 x 4\n",
       "\\begin{tabular}{llll}\n",
       " q05 & median & q95 & mean\\\\\n",
       " <dbl> & <dbl> & <dbl> & <dbl>\\\\\n",
       "\\hline\n",
       "\t -0.41239 & 0.002706349 & 0.4665308 & 0.01778661\\\\\n",
       "\\end{tabular}\n"
      ],
      "text/markdown": [
       "\n",
       "A tibble: 1 x 4\n",
       "\n",
       "| q05 &lt;dbl&gt; | median &lt;dbl&gt; | q95 &lt;dbl&gt; | mean &lt;dbl&gt; |\n",
       "|---|---|---|---|\n",
       "| -0.41239 | 0.002706349 | 0.4665308 | 0.01778661 |\n",
       "\n"
      ],
      "text/plain": [
       "  q05      median      q95       mean      \n",
       "1 -0.41239 0.002706349 0.4665308 0.01778661"
      ]
     },
     "metadata": {},
     "output_type": "display_data"
    }
   ],
   "source": [
    "cor_annotated %>%\n",
    "    filter(cohort == \"Interpatient MGH\") %>%\n",
    "    ungroup() %>% \n",
    "    summarize(q05=quantile(cor, 0.05), median=quantile(cor, 0.5), q95=quantile(cor, 0.95), mean=mean(cor))"
   ]
  },
  {
   "cell_type": "markdown",
   "id": "8e359db9",
   "metadata": {},
   "source": [
    "Mosaic:"
   ]
  },
  {
   "cell_type": "code",
   "execution_count": 14,
   "id": "9b28a745",
   "metadata": {
    "vscode": {
     "languageId": "r"
    }
   },
   "outputs": [
    {
     "data": {
      "text/html": [
       "<table class=\"dataframe\">\n",
       "<caption>A tibble: 1 x 3</caption>\n",
       "<thead>\n",
       "\t<tr><th scope=col>q05</th><th scope=col>median</th><th scope=col>q95</th></tr>\n",
       "\t<tr><th scope=col>&lt;dbl&gt;</th><th scope=col>&lt;dbl&gt;</th><th scope=col>&lt;dbl&gt;</th></tr>\n",
       "</thead>\n",
       "<tbody>\n",
       "\t<tr><td>-0.07415049</td><td>0.4415329</td><td>0.7422278</td></tr>\n",
       "</tbody>\n",
       "</table>\n"
      ],
      "text/latex": [
       "A tibble: 1 x 3\n",
       "\\begin{tabular}{lll}\n",
       " q05 & median & q95\\\\\n",
       " <dbl> & <dbl> & <dbl>\\\\\n",
       "\\hline\n",
       "\t -0.07415049 & 0.4415329 & 0.7422278\\\\\n",
       "\\end{tabular}\n"
      ],
      "text/markdown": [
       "\n",
       "A tibble: 1 x 3\n",
       "\n",
       "| q05 &lt;dbl&gt; | median &lt;dbl&gt; | q95 &lt;dbl&gt; |\n",
       "|---|---|---|\n",
       "| -0.07415049 | 0.4415329 | 0.7422278 |\n",
       "\n"
      ],
      "text/plain": [
       "  q05         median    q95      \n",
       "1 -0.07415049 0.4415329 0.7422278"
      ]
     },
     "metadata": {},
     "output_type": "display_data"
    }
   ],
   "source": [
    "cor_annotated %>%\n",
    "    filter(`NGS \\nClassification` == \"mosaic\") %>%\n",
    "    ungroup() %>% \n",
    "    summarize(q05=quantile(cor, 0.05), , median=quantile(cor, 0.5), q95=quantile(cor, 0.95))"
   ]
  }
 ],
 "metadata": {
  "kernelspec": {
   "display_name": "R",
   "language": "R",
   "name": "ir"
  },
  "language_info": {
   "codemirror_mode": "r",
   "file_extension": ".r",
   "mimetype": "text/x-r-source",
   "name": "R",
   "pygments_lexer": "r",
   "version": "4.1.2"
  }
 },
 "nbformat": 4,
 "nbformat_minor": 5
}
